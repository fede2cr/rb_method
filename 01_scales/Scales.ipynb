{
 "cells": [
  {
   "cell_type": "markdown",
   "metadata": {},
   "source": [
    "# Scales\n"
   ]
  },
  {
   "cell_type": "code",
   "execution_count": 1,
   "metadata": {},
   "outputs": [],
   "source": [
    "from fretboard import *"
   ]
  },
  {
   "cell_type": "code",
   "execution_count": 2,
   "metadata": {},
   "outputs": [
    {
     "name": "stdout",
     "output_type": "stream",
     "text": [
      "[E, F#, G#, A, B, C#, D#]\n"
     ]
    }
   ],
   "source": [
    "e_maj = Major('E')\n",
    "print (e_maj)"
   ]
  },
  {
   "cell_type": "code",
   "execution_count": 3,
   "metadata": {},
   "outputs": [
    {
     "name": "stdout",
     "output_type": "stream",
     "text": [
      "        =================\n",
      "D      ||D#-|-E-|---|F#-|\n",
      "G      ||G#-|-A-|---|-B-|\n",
      "A     A||---|-B-|---|C#-|\n",
      "E     E||---|F#-|---|G#-|\n",
      "        =================\n",
      "                  3     \n",
      "        =================\n",
      "D      ||M7-|-R-|---|M2-|\n",
      "G      ||M3-|-4-|---|-5-|\n",
      "A     4||---|-5-|---|M6-|\n",
      "E     R||---|M2-|---|M3-|\n",
      "        =================\n",
      "                  3     \n"
     ]
    }
   ],
   "source": [
    "console.show_scale(Major('E'), tuning=\"E A G D\", fmax=4)\n",
    "console.show_scale(Major('E'), tuning=\"E A G D\", fmax=4, fmt='interval')"
   ]
  },
  {
   "cell_type": "code",
   "execution_count": 4,
   "metadata": {},
   "outputs": [
    {
     "name": "stdout",
     "output_type": "stream",
     "text": [
      "Major triad: E G# B\n",
      "Minor triad: E G B\n"
     ]
    }
   ],
   "source": [
    "root = Note('E')\n",
    "print (\"Major triad:\", root, root + 4, root + 7)\n",
    "print (\"Minor triad:\", root, root + 3, root + 7)"
   ]
  }
 ],
 "metadata": {
  "kernelspec": {
   "display_name": "Python 3",
   "language": "python",
   "name": "python3"
  },
  "language_info": {
   "codemirror_mode": {
    "name": "ipython",
    "version": 3
   },
   "file_extension": ".py",
   "mimetype": "text/x-python",
   "name": "python",
   "nbconvert_exporter": "python",
   "pygments_lexer": "ipython3",
   "version": "3.6.7"
  }
 },
 "nbformat": 4,
 "nbformat_minor": 1
}
