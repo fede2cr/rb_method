{
 "cells": [
  {
   "cell_type": "markdown",
   "metadata": {},
   "source": [
    "# Scales\n",
    "\n",
    "Scales in music notation, with added notes of the scale and scale fretboard representation with added intervals and triads\n",
    "\n",
    "### *Note: Practice until you memorize everything*"
   ]
  },
  {
   "cell_type": "code",
   "execution_count": 1,
   "metadata": {},
   "outputs": [],
   "source": [
    "# setup\n",
    "%load_ext abjadext.ipython\n",
    "import fretboard\n",
    "import abjad"
   ]
  },
  {
   "cell_type": "markdown",
   "metadata": {},
   "source": [
    "# E Major"
   ]
  },
  {
   "cell_type": "code",
   "execution_count": 2,
   "metadata": {},
   "outputs": [
    {
     "name": "stdout",
     "output_type": "stream",
     "text": [
      "[E, F#, G#, A, B, C#, D#]\n",
      "        =================\n",
      "D      ||D#-|-E-|---|F#-|\n",
      "G      ||G#-|-A-|---|-B-|\n",
      "A     A||---|-B-|---|C#-|\n",
      "E     E||---|F#-|---|G#-|\n",
      "        =================\n",
      "                  3     \n",
      "        =================\n",
      "D      ||M7-|-R-|---|M2-|\n",
      "G      ||M3-|-4-|---|-5-|\n",
      "A     4||---|-5-|---|M6-|\n",
      "E     R||---|M2-|---|M3-|\n",
      "        =================\n",
      "                  3     \n",
      "Major triad: E G# B\n",
      "Minor triad: E G B\n"
     ]
    },
    {
     "data": {
      "image/png": "[encoded data removed]"
     },
     "metadata": {},
     "output_type": "display_data"
    }
   ],
   "source": [
    "# Scale\n",
    "scale = fretboard.Major('E')\n",
    "print (scale)\n",
    "# Interval\n",
    "fretboard.console.show_scale(scale, tuning=\"E A G D\", fmax=4)\n",
    "fretboard.console.show_scale(scale, tuning=\"E A G D\", fmax=4, fmt='interval')\n",
    "# Triad\n",
    "root = fretboard.Note('E')\n",
    "print (\"Major triad:\", root, root + 4, root + 7)\n",
    "print (\"Minor triad:\", root, root + 3, root + 7)\n",
    "# Needs to be an octave lower. Need to learn more adjad\n",
    "e_scale = abjad.Staff(\"e1 fs1 gs1 a1 b1 cs'1 ds'1\")\n",
    "score = abjad.Score([e_scale])\n",
    "clef = abjad.Clef('bass')\n",
    "abjad.attach(clef, e_scale[0])\n",
    "score.add_final_bar_line()\n",
    "show(score)"
   ]
  },
  {
   "cell_type": "markdown",
   "metadata": {},
   "source": [
    "# F Major"
   ]
  },
  {
   "cell_type": "code",
   "execution_count": 3,
   "metadata": {},
   "outputs": [
    {
     "name": "stdout",
     "output_type": "stream",
     "text": [
      "[F, G, A, A#, C, D, E]\n",
      "        =================\n",
      "D     D||---|-E-|-F-|---|\n",
      "G     G||---|-A-|A#-|---|\n",
      "A     A||A#-|---|-C-|---|\n",
      "E     E||-F-|---|-G-|---|\n",
      "        =================\n",
      "                  3     \n",
      "        =================\n",
      "D    M6||---|M7-|-R-|---|\n",
      "G    M2||---|M3-|-4-|---|\n",
      "A    M3||-4-|---|-5-|---|\n",
      "E    M7||-R-|---|M2-|---|\n",
      "        =================\n",
      "                  3     \n",
      "Major triad: F A C\n",
      "Minor triad: F G# C\n"
     ]
    },
    {
     "data": {
      "image/png": "[encoded data removed]"
     },
     "metadata": {},
     "output_type": "display_data"
    }
   ],
   "source": [
    "# Scale\n",
    "scale = fretboard.Major('F')\n",
    "print (scale)\n",
    "# Interval\n",
    "fretboard.console.show_scale(scale, tuning=\"E A G D\", fmax=4)\n",
    "fretboard.console.show_scale(scale, tuning=\"E A G D\", fmax=4, fmt='interval')\n",
    "# Triad\n",
    "root = fretboard.Note('F')\n",
    "print (\"Major triad:\", root, root + 4, root + 7)\n",
    "print (\"Minor triad:\", root, root + 3, root + 7)\n",
    "# Needs to be an octave lower. Need to learn more adjad\n",
    "e_scale = abjad.Staff(\"f1 g1 a1 as1 c'1 d'1 e'1\")\n",
    "score = abjad.Score([e_scale])\n",
    "clef = abjad.Clef('bass')\n",
    "abjad.attach(clef, e_scale[0])\n",
    "score.add_final_bar_line()\n",
    "show(score)"
   ]
  },
  {
   "cell_type": "markdown",
   "metadata": {},
   "source": [
    "# F sharp"
   ]
  },
  {
   "cell_type": "code",
   "execution_count": 4,
   "metadata": {},
   "outputs": [
    {
     "name": "stdout",
     "output_type": "stream",
     "text": [
      "[F#, G#, A#, B, C#, D#, F]\n",
      "        =================\n",
      "D      ||D#-|---|-F-|F#-|\n",
      "G      ||G#-|---|A#-|-B-|\n",
      "A      ||A#-|-B-|---|C#-|\n",
      "E      ||-F-|F#-|---|G#-|\n",
      "        =================\n",
      "                  3     \n",
      "        =================\n",
      "D      ||M6-|---|M7-|-R-|\n",
      "G      ||M2-|---|M3-|-4-|\n",
      "A      ||M3-|-4-|---|-5-|\n",
      "E      ||M7-|-R-|---|M2-|\n",
      "        =================\n",
      "                  3     \n",
      "Major triad: F# A# C#\n",
      "Minor triad: F# A C#\n"
     ]
    },
    {
     "data": {
      "image/png": "[encoded data removed]"
     },
     "metadata": {},
     "output_type": "display_data"
    }
   ],
   "source": [
    "# Scale\n",
    "scale = fretboard.Major('F#')\n",
    "print (scale)\n",
    "# Interval\n",
    "fretboard.console.show_scale(scale, tuning=\"E A G D\", fmax=4)\n",
    "fretboard.console.show_scale(scale, tuning=\"E A G D\", fmax=4, fmt='interval')\n",
    "# Triad\n",
    "root = fretboard.Note('F#')\n",
    "print (\"Major triad:\", root, root + 4, root + 7)\n",
    "print (\"Minor triad:\", root, root + 3, root + 7)\n",
    "# Needs to be an octave lower. Need to learn more adjad\n",
    "e_scale = abjad.Staff(\"fs1 gs1 as1 b1 cs'1 ds'1 f'1\")\n",
    "score = abjad.Score([e_scale])\n",
    "clef = abjad.Clef('bass')\n",
    "abjad.attach(clef, e_scale[0])\n",
    "score.add_final_bar_line()\n",
    "show(score)"
   ]
  },
  {
   "cell_type": "markdown",
   "metadata": {},
   "source": [
    "# G"
   ]
  },
  {
   "cell_type": "code",
   "execution_count": 5,
   "metadata": {},
   "outputs": [
    {
     "name": "stdout",
     "output_type": "stream",
     "text": [
      "[G, A, B, C, D, E, F#]\n",
      "        =================\n",
      "D     D||---|-E-|---|F#-|\n",
      "G     G||---|-A-|---|-B-|\n",
      "A     A||---|-B-|-C-|---|\n",
      "E     E||---|F#-|-G-|---|\n",
      "        =================\n",
      "                  3     \n",
      "        =================\n",
      "D     5||---|M6-|---|M7-|\n",
      "G     R||---|M2-|---|M3-|\n",
      "A    M2||---|M3-|-4-|---|\n",
      "E    M6||---|M7-|-R-|---|\n",
      "        =================\n",
      "                  3     \n",
      "Major triad: G B D\n",
      "Minor triad: G A# D\n"
     ]
    },
    {
     "data": {
      "image/png": "[encoded data removed]"
     },
     "metadata": {},
     "output_type": "display_data"
    }
   ],
   "source": [
    "# Scale\n",
    "scale = fretboard.Major('G')\n",
    "print (scale)\n",
    "# Interval\n",
    "fretboard.console.show_scale(scale, tuning=\"E A G D\", fmax=4)\n",
    "fretboard.console.show_scale(scale, tuning=\"E A G D\", fmax=4, fmt='interval')\n",
    "# Triad\n",
    "root = fretboard.Note('G')\n",
    "print (\"Major triad:\", root, root + 4, root + 7)\n",
    "print (\"Minor triad:\", root, root + 3, root + 7)\n",
    "# Needs to be an octave lower. Need to learn more adjad\n",
    "e_scale = abjad.Staff(\"g1 a1 b1 c'1 d'1 e'1 fs'1\")\n",
    "score = abjad.Score([e_scale])\n",
    "clef = abjad.Clef('bass')\n",
    "abjad.attach(clef, e_scale[0])\n",
    "score.add_final_bar_line()\n",
    "show(score)"
   ]
  },
  {
   "cell_type": "markdown",
   "metadata": {},
   "source": [
    "# A flat"
   ]
  },
  {
   "cell_type": "code",
   "execution_count": 6,
   "metadata": {},
   "outputs": [
    {
     "name": "stdout",
     "output_type": "stream",
     "text": [
      "[Gb, G#, A#, B, C#, D#, F]\n",
      "        =================\n",
      "D      ||D#-|---|-F-|F#-|\n",
      "G      ||G#-|---|A#-|-B-|\n",
      "A      ||A#-|-B-|---|C#-|\n",
      "E      ||-F-|F#-|---|G#-|\n",
      "        =================\n",
      "                  3     \n",
      "        =================\n",
      "D      ||M6-|---|M7-|-R-|\n",
      "G      ||M2-|---|M3-|-4-|\n",
      "A      ||M3-|-4-|---|-5-|\n",
      "E      ||M7-|-R-|---|M2-|\n",
      "        =================\n",
      "                  3     \n",
      "Major triad: Gb A# C#\n",
      "Minor triad: Gb A C#\n"
     ]
    },
    {
     "data": {
      "image/png": "[encoded data removed]"
     },
     "metadata": {},
     "output_type": "display_data"
    }
   ],
   "source": [
    "# Scale\n",
    "scale = fretboard.Major('Gb')\n",
    "print (scale)\n",
    "# Interval\n",
    "fretboard.console.show_scale(scale, tuning=\"E A G D\", fmax=4)\n",
    "fretboard.console.show_scale(scale, tuning=\"E A G D\", fmax=4, fmt='interval')\n",
    "# Triad\n",
    "root = fretboard.Note('Gb')\n",
    "print (\"Major triad:\", root, root + 4, root + 7)\n",
    "print (\"Minor triad:\", root, root + 3, root + 7)\n",
    "# Needs to be an octave lower. Need to learn more adjad\n",
    "e_scale = abjad.Staff(\"gf1 gs1 as1 b1 cs'1 ds'1 f'1\")\n",
    "score = abjad.Score([e_scale])\n",
    "clef = abjad.Clef('bass')\n",
    "abjad.attach(clef, e_scale[0])\n",
    "score.add_final_bar_line()\n",
    "show(score)"
   ]
  },
  {
   "cell_type": "markdown",
   "metadata": {},
   "source": [
    "# A"
   ]
  },
  {
   "cell_type": "code",
   "execution_count": 7,
   "metadata": {},
   "outputs": [
    {
     "name": "stdout",
     "output_type": "stream",
     "text": [
      "[A, B, C#, D, E, F#, G#]\n",
      "        =================\n",
      "D     D||---|-E-|---|F#-|\n",
      "G      ||G#-|-A-|---|-B-|\n",
      "A     A||---|-B-|---|C#-|\n",
      "E     E||---|F#-|---|G#-|\n",
      "        =================\n",
      "                  3     \n",
      "        =================\n",
      "D     4||---|-5-|---|M6-|\n",
      "G      ||M7-|-R-|---|M2-|\n",
      "A     R||---|M2-|---|M3-|\n",
      "E     5||---|M6-|---|M7-|\n",
      "        =================\n",
      "                  3     \n",
      "Major triad: A C# E\n",
      "Minor triad: A C E\n"
     ]
    },
    {
     "data": {
      "image/png": "[encoded data removed]"
     },
     "metadata": {},
     "output_type": "display_data"
    }
   ],
   "source": [
    "# Scale\n",
    "scale = fretboard.Major('A')\n",
    "print (scale)\n",
    "# Interval\n",
    "fretboard.console.show_scale(scale, tuning=\"E A G D\", fmax=4)\n",
    "fretboard.console.show_scale(scale, tuning=\"E A G D\", fmax=4, fmt='interval')\n",
    "# Triad\n",
    "root = fretboard.Note('A')\n",
    "print (\"Major triad:\", root, root + 4, root + 7)\n",
    "print (\"Minor triad:\", root, root + 3, root + 7)\n",
    "# Needs to be an octave lower. Need to learn more adjad\n",
    "e_scale = abjad.Staff(\"a1 b1 cs'1 d'1 e'1 fs'1 g'1\")\n",
    "score = abjad.Score([e_scale])\n",
    "clef = abjad.Clef('bass')\n",
    "abjad.attach(clef, e_scale[0])\n",
    "score.add_final_bar_line()\n",
    "show(score)"
   ]
  },
  {
   "cell_type": "markdown",
   "metadata": {},
   "source": [
    "# B flat"
   ]
  },
  {
   "cell_type": "code",
   "execution_count": 8,
   "metadata": {},
   "outputs": [
    {
     "name": "stdout",
     "output_type": "stream",
     "text": [
      "[Bb, C, D, D#, F, G, A]\n",
      "        =================\n",
      "D     D||D#-|---|-F-|---|\n",
      "G     G||---|-A-|A#-|---|\n",
      "A     A||A#-|---|-C-|---|\n",
      "E      ||-F-|---|-G-|---|\n",
      "        =================\n",
      "                  3     \n",
      "        =================\n",
      "D    M3||-4-|---|-5-|---|\n",
      "G    M6||---|M7-|-R-|---|\n",
      "A    M7||-R-|---|M2-|---|\n",
      "E      ||-5-|---|M6-|---|\n",
      "        =================\n",
      "                  3     \n",
      "Major triad: Bb D F\n",
      "Minor triad: Bb C# F\n"
     ]
    },
    {
     "data": {
      "image/png": "[encoded data removed]"
     },
     "metadata": {},
     "output_type": "display_data"
    }
   ],
   "source": [
    "# Scale\n",
    "scale = fretboard.Major('Bb')\n",
    "print (scale)\n",
    "# Interval\n",
    "fretboard.console.show_scale(scale, tuning=\"E A G D\", fmax=4)\n",
    "fretboard.console.show_scale(scale, tuning=\"E A G D\", fmax=4, fmt='interval')\n",
    "# Triad\n",
    "root = fretboard.Note('Bb')\n",
    "print (\"Major triad:\", root, root + 4, root + 7)\n",
    "print (\"Minor triad:\", root, root + 3, root + 7)\n",
    "# Needs to be an octave lower. Need to learn more adjad\n",
    "e_scale = abjad.Staff(\"bf1 c'1 d'1 ds'1 f'1 g'1 a'1\")\n",
    "score = abjad.Score([e_scale])\n",
    "clef = abjad.Clef('bass')\n",
    "abjad.attach(clef, e_scale[0])\n",
    "score.add_final_bar_line()\n",
    "show(score)"
   ]
  },
  {
   "cell_type": "markdown",
   "metadata": {},
   "source": [
    "# B"
   ]
  },
  {
   "cell_type": "code",
   "execution_count": 9,
   "metadata": {},
   "outputs": [
    {
     "name": "stdout",
     "output_type": "stream",
     "text": [
      "[B, C#, D#, E, F#, G#, A#]\n",
      "        =================\n",
      "D      ||D#-|-E-|---|F#-|\n",
      "G      ||G#-|---|A#-|-B-|\n",
      "A      ||A#-|-B-|---|C#-|\n",
      "E     E||---|F#-|---|G#-|\n",
      "        =================\n",
      "                  3     \n",
      "        =================\n",
      "D      ||M3-|-4-|---|-5-|\n",
      "G      ||M6-|---|M7-|-R-|\n",
      "A      ||M7-|-R-|---|M2-|\n",
      "E     4||---|-5-|---|M6-|\n",
      "        =================\n",
      "                  3     \n",
      "Major triad: B D# F#\n",
      "Minor triad: B D F#\n"
     ]
    },
    {
     "data": {
      "image/png": "[encoded data removed]"
     },
     "metadata": {},
     "output_type": "display_data"
    }
   ],
   "source": [
    "# Scale\n",
    "scale = fretboard.Major('B')\n",
    "print (scale)\n",
    "# Interval\n",
    "fretboard.console.show_scale(scale, tuning=\"E A G D\", fmax=4)\n",
    "fretboard.console.show_scale(scale, tuning=\"E A G D\", fmax=4, fmt='interval')\n",
    "# Triad\n",
    "root = fretboard.Note('B')\n",
    "print (\"Major triad:\", root, root + 4, root + 7)\n",
    "print (\"Minor triad:\", root, root + 3, root + 7)\n",
    "# Needs to be an octave lower. Need to learn more adjad\n",
    "e_scale = abjad.Staff(\"b1 cs'1 ds'1 e'1 fs'1 gs'1 as'1\")\n",
    "score = abjad.Score([e_scale])\n",
    "clef = abjad.Clef('bass')\n",
    "abjad.attach(clef, e_scale[0])\n",
    "score.add_final_bar_line()\n",
    "show(score)"
   ]
  },
  {
   "cell_type": "markdown",
   "metadata": {},
   "source": [
    "# C"
   ]
  },
  {
   "cell_type": "code",
   "execution_count": 10,
   "metadata": {},
   "outputs": [
    {
     "name": "stdout",
     "output_type": "stream",
     "text": [
      "[C, D, E, F, G, A, B]\n",
      "        =================\n",
      "D     D||---|-E-|-F-|---|\n",
      "G     G||---|-A-|---|-B-|\n",
      "A     A||---|-B-|-C-|---|\n",
      "E     E||-F-|---|-G-|---|\n",
      "        =================\n",
      "                  3     \n",
      "        =================\n",
      "D    M2||---|M3-|-4-|---|\n",
      "G     5||---|M6-|---|M7-|\n",
      "A    M6||---|M7-|-R-|---|\n",
      "E    M3||-4-|---|-5-|---|\n",
      "        =================\n",
      "                  3     \n",
      "Major triad: C E G\n",
      "Minor triad: C D# G\n"
     ]
    },
    {
     "data": {
      "image/png": "[encoded data removed]"
     },
     "metadata": {},
     "output_type": "display_data"
    }
   ],
   "source": [
    "# Scale\n",
    "scale = fretboard.Major('C')\n",
    "print (scale)\n",
    "# Interval\n",
    "fretboard.console.show_scale(scale, tuning=\"E A G D\", fmax=4)\n",
    "fretboard.console.show_scale(scale, tuning=\"E A G D\", fmax=4, fmt='interval')\n",
    "# Triad\n",
    "root = fretboard.Note('C')\n",
    "print (\"Major triad:\", root, root + 4, root + 7)\n",
    "print (\"Minor triad:\", root, root + 3, root + 7)\n",
    "# Needs to be an octave lower. Need to learn more adjad\n",
    "e_scale = abjad.Staff(\"c'1 d'1 e'1 f'1 g'1 a'1 b'1\")\n",
    "score = abjad.Score([e_scale])\n",
    "clef = abjad.Clef('bass')\n",
    "abjad.attach(clef, e_scale[0])\n",
    "score.add_final_bar_line()\n",
    "show(score)"
   ]
  },
  {
   "cell_type": "markdown",
   "metadata": {},
   "source": [
    "# D flat"
   ]
  },
  {
   "cell_type": "code",
   "execution_count": 11,
   "metadata": {},
   "outputs": [
    {
     "name": "stdout",
     "output_type": "stream",
     "text": [
      "[Db, D#, F, F#, G#, A#, C]\n",
      "        =================\n",
      "D      ||D#-|---|-F-|F#-|\n",
      "G      ||G#-|---|A#-|---|\n",
      "A      ||A#-|---|-C-|C#-|\n",
      "E      ||-F-|F#-|---|G#-|\n",
      "        =================\n",
      "                  3     \n",
      "        =================\n",
      "D      ||M2-|---|M3-|-4-|\n",
      "G      ||-5-|---|M6-|---|\n",
      "A      ||M6-|---|M7-|-R-|\n",
      "E      ||M3-|-4-|---|-5-|\n",
      "        =================\n",
      "                  3     \n",
      "Major triad: Db F G#\n",
      "Minor triad: Db E G#\n"
     ]
    },
    {
     "data": {
      "image/png": "[encoded data removed]"
     },
     "metadata": {},
     "output_type": "display_data"
    }
   ],
   "source": [
    "# Scale\n",
    "scale = fretboard.Major('Db')\n",
    "print (scale)\n",
    "# Interval\n",
    "fretboard.console.show_scale(scale, tuning=\"E A G D\", fmax=4)\n",
    "fretboard.console.show_scale(scale, tuning=\"E A G D\", fmax=4, fmt='interval')\n",
    "# Triad\n",
    "root = fretboard.Note('Db')\n",
    "print (\"Major triad:\", root, root + 4, root + 7)\n",
    "print (\"Minor triad:\", root, root + 3, root + 7)\n",
    "# Needs to be an octave lower. Need to learn more adjad\n",
    "e_scale = abjad.Staff(\"df'1 ds'1 f'1 fs'1 gs'1 as'1 c''1\")\n",
    "score = abjad.Score([e_scale])\n",
    "clef = abjad.Clef('bass')\n",
    "abjad.attach(clef, e_scale[0])\n",
    "score.add_final_bar_line()\n",
    "show(score)"
   ]
  }
 ],
 "metadata": {
  "kernelspec": {
   "display_name": "Python 3",
   "language": "python",
   "name": "python3"
  },
  "language_info": {
   "codemirror_mode": {
    "name": "ipython",
    "version": 3
   },
   "file_extension": ".py",
   "mimetype": "text/x-python",
   "name": "python",
   "nbconvert_exporter": "python",
   "pygments_lexer": "ipython3",
   "version": "3.7.3"
  }
 },
 "nbformat": 4,
 "nbformat_minor": 1
}
