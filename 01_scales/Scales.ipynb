{
 "cells": [
  {
   "cell_type": "markdown",
   "metadata": {},
   "source": [
    "# Scales\n"
   ]
  },
  {
   "cell_type": "code",
   "execution_count": 1,
   "metadata": {},
   "outputs": [],
   "source": [
    "%load_ext abjadext.ipython\n",
    "import fretboard\n",
    "import abjad"
   ]
  },
  {
   "cell_type": "code",
   "execution_count": 2,
   "metadata": {},
   "outputs": [
    {
     "data": {
      "image/png": "[encoded data removed]"
     },
     "metadata": {},
     "output_type": "display_data"
    }
   ],
   "source": [
    "# Needs to be an octave lower. Need to learn more adjad\n",
    "e_scale = abjad.Staff(\"e1 fs1 gs1 a1 b1 cs'1 ds'1\")\n",
    "score = abjad.Score([e_scale])\n",
    "clef = abjad.Clef('bass')\n",
    "abjad.attach(clef, e_scale[0])\n",
    "score.add_final_bar_line()\n",
    "show(score)"
   ]
  },
  {
   "cell_type": "code",
   "execution_count": 3,
   "metadata": {},
   "outputs": [
    {
     "name": "stdout",
     "output_type": "stream",
     "text": [
      "[E, F#, G#, A, B, C#, D#]\n"
     ]
    }
   ],
   "source": [
    "e_maj = fretboard.Major('E')\n",
    "print (e_maj)"
   ]
  },
  {
   "cell_type": "code",
   "execution_count": 4,
   "metadata": {},
   "outputs": [
    {
     "name": "stdout",
     "output_type": "stream",
     "text": [
      "        =================\n",
      "D      ||D#-|-E-|---|F#-|\n",
      "G      ||G#-|-A-|---|-B-|\n",
      "A     A||---|-B-|---|C#-|\n",
      "E     E||---|F#-|---|G#-|\n",
      "        =================\n",
      "                  3     \n",
      "        =================\n",
      "D      ||M7-|-R-|---|M2-|\n",
      "G      ||M3-|-4-|---|-5-|\n",
      "A     4||---|-5-|---|M6-|\n",
      "E     R||---|M2-|---|M3-|\n",
      "        =================\n",
      "                  3     \n"
     ]
    }
   ],
   "source": [
    "fretboard.console.show_scale(fretboard.Major('E'), tuning=\"E A G D\", fmax=4)\n",
    "fretboard.console.show_scale(fretboard.Major('E'), tuning=\"E A G D\", fmax=4, fmt='interval')"
   ]
  },
  {
   "cell_type": "code",
   "execution_count": 5,
   "metadata": {},
   "outputs": [
    {
     "name": "stdout",
     "output_type": "stream",
     "text": [
      "Major triad: E G# B\n",
      "Minor triad: E G B\n"
     ]
    }
   ],
   "source": [
    "root = fretboard.Note('E')\n",
    "print (\"Major triad:\", root, root + 4, root + 7)\n",
    "print (\"Minor triad:\", root, root + 3, root + 7)"
   ]
  }
 ],
 "metadata": {
  "kernelspec": {
   "display_name": "Python 3",
   "language": "python",
   "name": "python3"
  },
  "language_info": {
   "codemirror_mode": {
    "name": "ipython",
    "version": 3
   },
   "file_extension": ".py",
   "mimetype": "text/x-python",
   "name": "python",
   "nbconvert_exporter": "python",
   "pygments_lexer": "ipython3",
   "version": "3.6.7"
  }
 },
 "nbformat": 4,
 "nbformat_minor": 1
}
